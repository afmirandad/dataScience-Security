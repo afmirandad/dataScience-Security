{
 "cells": [
  {
   "cell_type": "markdown",
   "id": "745d8e01",
   "metadata": {},
   "source": [
    "imports of the program"
   ]
  },
  {
   "cell_type": "code",
   "execution_count": 1,
   "id": "297782cb",
   "metadata": {},
   "outputs": [],
   "source": [
    "import azure.cosmos.documents as documents\n",
    "import azure.cosmos.cosmos_client as cosmos_client\n",
    "import azure.cosmos.exceptions as exceptions\n",
    "from azure.cosmos.partition_key import PartitionKey\n",
    "from datetime import datetime\n",
    "import requests, os"
   ]
  },
  {
   "cell_type": "code",
   "execution_count": 52,
   "id": "e896addf",
   "metadata": {},
   "outputs": [],
   "source": [
    "settings = {\n",
    "    'host': os.environ.get('ACCOUNT_HOST', 'https://cosmosdbucundi702m.documents.azure.com:443/'),\n",
    "    'master_key': os.environ.get('ACCOUNT_KEY', 'zvrNzSz1Rs77R8Up5ACSOoMZ70nlFq8v0KYn6Yax5cSy0iko4iZQ6Q937o9cpnWpgLW26W4uRe0sACDb6TvZkw=='),\n",
    "    'database_id': os.environ.get('COSMOS_DATABASE', 'securityDB'),\n",
    "    'container_id': os.environ.get('COSMOS_CONTAINER', '200.14.47.99')\n",
    "}\n",
    "\n",
    "#Asignación de valores a variables internas\n",
    "HOST = settings['host']\n",
    "MASTER_KEY = settings['master_key']\n",
    "DATABASE_ID = settings['database_id']\n",
    "CONTAINER_ID = settings['container_id']"
   ]
  },
  {
   "cell_type": "code",
   "execution_count": 53,
   "id": "d31e6b66",
   "metadata": {},
   "outputs": [
    {
     "name": "stdout",
     "output_type": "stream",
     "text": [
      "Database with id 'securityDB' was found\n",
      "Container with id '200.14.47.99' was found\n",
      "\n",
      "run_sample done\n"
     ]
    }
   ],
   "source": [
    "def create_items(container):\n",
    "    print('\\nCreating Items\\n')\n",
    "\n",
    "    tonData = secDataFormat(\"ip1\")\n",
    "    container.create_item(body=tonData)\n",
    "    tonData = secDataFormat(\"ip2\")\n",
    "    container.create_item(body=tonData)\n",
    "\n",
    "def secDataFormat(item_id):\n",
    "    headers = {'X-Key':'fd2c4031-0399-42f6-9c21-00b429348976'}\n",
    "    #data = requests.get(\"https://v1.cveapi.com/CVE-2019-9956.json\")\n",
    "    data = requests.get(\"https://api.binaryedge.io/v2/query/image/ip/10.157.11.119\",headers=headers)\n",
    "    consume = data.json()\n",
    "    dataS = {'id' : item_id,\n",
    "            'partitionKey' : 'Account1',\n",
    "            'date' : datetime.now().strftime('%Y-%m-%d %H:%M:%S'),\n",
    "            'VulnerabilityDesc' : consume\n",
    "            }\n",
    "\n",
    "    return dataS\n",
    "\n",
    "def delete_item(container, doc_id, account_number):\n",
    "    print('\\nDeleting Item by Id\\n')\n",
    "\n",
    "    response = container.delete_item(item=doc_id, partition_key=account_number)\n",
    "\n",
    "    print('Deleted item\\'s Id is {0}'.format(doc_id))\n",
    "\n",
    "def read_item(container, doc_id, account_number):\n",
    "    print('\\nReading Item by Id\\n')\n",
    "\n",
    "    # We can do an efficient point read lookup on partition key and id\n",
    "    response = container.read_item(item=doc_id, partition_key=account_number)\n",
    "\n",
    "    print('Item read by Id {0}'.format(doc_id))\n",
    "    print('Partition Key: {0}'.format(response.get('partitionKey')))\n",
    "    print('Description: {0}'.format(response.get('VulnerabilityDesc')))\n",
    "    \n",
    "def read_items(container):\n",
    "    print('\\nReading all items in a container\\n')\n",
    "\n",
    "    item_list = list(container.read_all_items(max_item_count=10))\n",
    "\n",
    "    print('Found {0} items'.format(item_list.__len__()))\n",
    "\n",
    "    for doc in item_list:\n",
    "        print('Item Id: {0}'.format(doc.get('id')))\n",
    "        \n",
    "def query_items(container, account_number):\n",
    "    print('\\nQuerying for an  Item by Partition Key\\n')\n",
    "\n",
    "    # Including the partition key value of account_number in the WHERE filter results in a more efficient query\n",
    "    items = list(container.query_items(\n",
    "        query=\"SELECT * FROM r WHERE r.partitionKey=@account_number\",\n",
    "        parameters=[\n",
    "            { \"name\":\"@account_number\", \"value\": account_number }\n",
    "        ]\n",
    "    ))\n",
    "\n",
    "    print('Item queried by Partition Key {0}'.format(items[0].get(\"id\")))\n",
    "\n",
    "def run_sample():\n",
    "    client = cosmos_client.CosmosClient(HOST, {'masterKey': MASTER_KEY}, user_agent=\"CosmosDBPythonQuickstart\", user_agent_overwrite=True)\n",
    "    try:\n",
    "        # setup database for this sample\n",
    "        try:\n",
    "            db = client.create_database(id=DATABASE_ID)\n",
    "            print('Database with id \\'{0}\\' created'.format(DATABASE_ID))\n",
    "\n",
    "        except exceptions.CosmosResourceExistsError:\n",
    "            db = client.get_database_client(DATABASE_ID)\n",
    "            print('Database with id \\'{0}\\' was found'.format(DATABASE_ID))\n",
    "\n",
    "        # setup container for this sample\n",
    "        try:\n",
    "            container = db.create_container(id=CONTAINER_ID, partition_key=PartitionKey(path='/partitionKey'))\n",
    "            print('Container with id \\'{0}\\' created'.format(CONTAINER_ID))\n",
    "\n",
    "        except exceptions.CosmosResourceExistsError:\n",
    "            container = db.get_container_client(CONTAINER_ID)\n",
    "            print('Container with id \\'{0}\\' was found'.format(CONTAINER_ID))\n",
    "\n",
    "    except exceptions.CosmosHttpResponseError as e:\n",
    "        print('\\nrun_sample has caught an error. {0}'.format(e.message))\n",
    "\n",
    "    finally:\n",
    "            print(\"\\nrun_sample done\")\n",
    "\n",
    "\n",
    "if __name__ == '__main__':\n",
    "    client = cosmos_client.CosmosClient(HOST, {'masterKey': MASTER_KEY}, user_agent=\"CosmosDBPythonQuickstart\", user_agent_overwrite=True)\n",
    "    try:\n",
    "        # setup database for this sample\n",
    "        try:\n",
    "            db = client.create_database(id=DATABASE_ID)\n",
    "            print('Database with id \\'{0}\\' created'.format(DATABASE_ID))\n",
    "\n",
    "        except exceptions.CosmosResourceExistsError:\n",
    "            db = client.get_database_client(DATABASE_ID)\n",
    "            print('Database with id \\'{0}\\' was found'.format(DATABASE_ID))\n",
    "\n",
    "        # setup container for this sample\n",
    "        try:\n",
    "            container = db.create_container(id=CONTAINER_ID, partition_key=PartitionKey(path='/partitionKey'))\n",
    "            print('Container with id \\'{0}\\' created'.format(CONTAINER_ID))\n",
    "\n",
    "        except exceptions.CosmosResourceExistsError:\n",
    "            container = db.get_container_client(CONTAINER_ID)\n",
    "            print('Container with id \\'{0}\\' was found'.format(CONTAINER_ID))\n",
    "\n",
    "    except exceptions.CosmosHttpResponseError as e:\n",
    "        print('\\nrun_sample has caught an error. {0}'.format(e.message))\n",
    "\n",
    "    finally:\n",
    "            print(\"\\nrun_sample done\")\n",
    "    "
   ]
  },
  {
   "cell_type": "code",
   "execution_count": null,
   "id": "c801cb20",
   "metadata": {},
   "outputs": [],
   "source": [
    "create_items(container)"
   ]
  },
  {
   "cell_type": "code",
   "execution_count": null,
   "id": "d9d53f5c",
   "metadata": {},
   "outputs": [],
   "source": [
    "read_item(container, 'ip1', 'Account1')\n",
    "read_item(container, 'ip2', 'Account1')\n",
    "read_items(container)"
   ]
  },
  {
   "cell_type": "code",
   "execution_count": 46,
   "id": "d947198a",
   "metadata": {},
   "outputs": [
    {
     "name": "stdout",
     "output_type": "stream",
     "text": [
      "\n",
      "Querying for an  Item by Partition Key\n",
      "\n",
      "Item queried by Partition Key ip1\n"
     ]
    }
   ],
   "source": [
    "query_items(container, 'Account1')"
   ]
  },
  {
   "cell_type": "code",
   "execution_count": 64,
   "id": "aa9fd376",
   "metadata": {},
   "outputs": [
    {
     "name": "stdout",
     "output_type": "stream",
     "text": [
      "[{'key': '80/tcp', 'doc_count': 4}, {'key': '8080/tcp', 'doc_count': 4}, {'key': '2052/tcp', 'doc_count': 3}, {'key': '2053/tcp', 'doc_count': 3}, {'key': '2095/tcp', 'doc_count': 3}]\n"
     ]
    }
   ],
   "source": [
    "headers = {'X-Key':'fd2c4031-0399-42f6-9c21-00b429348976'}\n",
    "data = requests.get(\"https://api.binaryedge.io/v2/query/search/stats?query=ip:104.18.37.228&type=ports\",headers=headers)\n",
    "print(data.json())"
   ]
  },
  {
   "cell_type": "code",
   "execution_count": 65,
   "id": "3db70959",
   "metadata": {},
   "outputs": [
    {
     "ename": "CosmosHttpResponseError",
     "evalue": "(BadRequest) Message: {\"Errors\":[\"Your account is currently configured with a total throughput limit of 1000 RU\\/s. This operation failed because it would have increased the total throughput to 1200 RU\\/s. See https:\\/\\/aka.ms\\/cosmos-tp-limit for more information.\"]}\r\nActivityId: 11b48a41-d982-4fb5-92eb-434fcd615840, Request URI: /apps/bf247f2c-4db2-47b8-9427-a2c6f88b4294/services/6df297dc-6ae4-4430-908b-6757548b0454/partitions/85767fbd-1eee-42f0-a044-7601f687e86a/replicas/133528833031257160p, RequestStats: , SDK: Microsoft.Azure.Documents.Common/2.14.0\nCode: BadRequest\nMessage: Message: {\"Errors\":[\"Your account is currently configured with a total throughput limit of 1000 RU\\/s. This operation failed because it would have increased the total throughput to 1200 RU\\/s. See https:\\/\\/aka.ms\\/cosmos-tp-limit for more information.\"]}\r\nActivityId: 11b48a41-d982-4fb5-92eb-434fcd615840, Request URI: /apps/bf247f2c-4db2-47b8-9427-a2c6f88b4294/services/6df297dc-6ae4-4430-908b-6757548b0454/partitions/85767fbd-1eee-42f0-a044-7601f687e86a/replicas/133528833031257160p, RequestStats: , SDK: Microsoft.Azure.Documents.Common/2.14.0",
     "output_type": "error",
     "traceback": [
      "\u001b[1;31m---------------------------------------------------------------------------\u001b[0m",
      "\u001b[1;31mCosmosHttpResponseError\u001b[0m                   Traceback (most recent call last)",
      "Input \u001b[1;32mIn [65]\u001b[0m, in \u001b[0;36m<module>\u001b[1;34m\u001b[0m\n\u001b[1;32m----> 1\u001b[0m \u001b[43mdb\u001b[49m\u001b[38;5;241;43m.\u001b[39;49m\u001b[43mcreate_container\u001b[49m\u001b[43m(\u001b[49m\u001b[38;5;28;43mid\u001b[39;49m\u001b[38;5;241;43m=\u001b[39;49m\u001b[38;5;124;43m\"\u001b[39;49m\u001b[38;5;124;43m104.18.37.228\u001b[39;49m\u001b[38;5;124;43m\"\u001b[39;49m\u001b[43m,\u001b[49m\u001b[43m \u001b[49m\u001b[43mpartition_key\u001b[49m\u001b[38;5;241;43m=\u001b[39;49m\u001b[43mPartitionKey\u001b[49m\u001b[43m(\u001b[49m\u001b[43mpath\u001b[49m\u001b[38;5;241;43m=\u001b[39;49m\u001b[38;5;124;43m'\u001b[39;49m\u001b[38;5;124;43m/partitionKey\u001b[39;49m\u001b[38;5;124;43m'\u001b[39;49m\u001b[43m)\u001b[49m\u001b[43m)\u001b[49m\n",
      "File \u001b[1;32m~\\AppData\\Local\\Programs\\Python\\Python39\\lib\\site-packages\\azure\\core\\tracing\\decorator.py:76\u001b[0m, in \u001b[0;36mdistributed_trace.<locals>.decorator.<locals>.wrapper_use_tracer\u001b[1;34m(*args, **kwargs)\u001b[0m\n\u001b[0;32m     74\u001b[0m span_impl_type \u001b[38;5;241m=\u001b[39m settings\u001b[38;5;241m.\u001b[39mtracing_implementation()\n\u001b[0;32m     75\u001b[0m \u001b[38;5;28;01mif\u001b[39;00m span_impl_type \u001b[38;5;129;01mis\u001b[39;00m \u001b[38;5;28;01mNone\u001b[39;00m:\n\u001b[1;32m---> 76\u001b[0m     \u001b[38;5;28;01mreturn\u001b[39;00m func(\u001b[38;5;241m*\u001b[39margs, \u001b[38;5;241m*\u001b[39m\u001b[38;5;241m*\u001b[39mkwargs)\n\u001b[0;32m     78\u001b[0m \u001b[38;5;66;03m# Merge span is parameter is set, but only if no explicit parent are passed\u001b[39;00m\n\u001b[0;32m     79\u001b[0m \u001b[38;5;28;01mif\u001b[39;00m merge_span \u001b[38;5;129;01mand\u001b[39;00m \u001b[38;5;129;01mnot\u001b[39;00m passed_in_parent:\n",
      "File \u001b[1;32m~\\AppData\\Local\\Programs\\Python\\Python39\\lib\\site-packages\\azure\\cosmos\\database.py:237\u001b[0m, in \u001b[0;36mDatabaseProxy.create_container\u001b[1;34m(self, id, partition_key, indexing_policy, default_ttl, populate_query_metrics, offer_throughput, unique_key_policy, conflict_resolution_policy, **kwargs)\u001b[0m\n\u001b[0;32m    235\u001b[0m     request_options[\u001b[38;5;124m\"\u001b[39m\u001b[38;5;124mpopulateQueryMetrics\u001b[39m\u001b[38;5;124m\"\u001b[39m] \u001b[38;5;241m=\u001b[39m populate_query_metrics\n\u001b[0;32m    236\u001b[0m _set_throughput_options(offer\u001b[38;5;241m=\u001b[39moffer_throughput, request_options\u001b[38;5;241m=\u001b[39mrequest_options)\n\u001b[1;32m--> 237\u001b[0m data \u001b[38;5;241m=\u001b[39m \u001b[38;5;28mself\u001b[39m\u001b[38;5;241m.\u001b[39mclient_connection\u001b[38;5;241m.\u001b[39mCreateContainer(\n\u001b[0;32m    238\u001b[0m     database_link\u001b[38;5;241m=\u001b[39m\u001b[38;5;28mself\u001b[39m\u001b[38;5;241m.\u001b[39mdatabase_link, collection\u001b[38;5;241m=\u001b[39mdefinition, options\u001b[38;5;241m=\u001b[39mrequest_options, \u001b[38;5;241m*\u001b[39m\u001b[38;5;241m*\u001b[39mkwargs\n\u001b[0;32m    239\u001b[0m )\n\u001b[0;32m    241\u001b[0m \u001b[38;5;28;01mif\u001b[39;00m response_hook:\n\u001b[0;32m    242\u001b[0m     response_hook(\u001b[38;5;28mself\u001b[39m\u001b[38;5;241m.\u001b[39mclient_connection\u001b[38;5;241m.\u001b[39mlast_response_headers, data)\n",
      "File \u001b[1;32m~\\AppData\\Local\\Programs\\Python\\Python39\\lib\\site-packages\\azure\\cosmos\\_cosmos_client_connection.py:460\u001b[0m, in \u001b[0;36mCosmosClientConnection.CreateContainer\u001b[1;34m(self, database_link, collection, options, **kwargs)\u001b[0m\n\u001b[0;32m    458\u001b[0m path \u001b[38;5;241m=\u001b[39m base\u001b[38;5;241m.\u001b[39mGetPathFromLink(database_link, \u001b[38;5;124m\"\u001b[39m\u001b[38;5;124mcolls\u001b[39m\u001b[38;5;124m\"\u001b[39m)\n\u001b[0;32m    459\u001b[0m database_id \u001b[38;5;241m=\u001b[39m base\u001b[38;5;241m.\u001b[39mGetResourceIdOrFullNameFromLink(database_link)\n\u001b[1;32m--> 460\u001b[0m \u001b[38;5;28;01mreturn\u001b[39;00m \u001b[38;5;28mself\u001b[39m\u001b[38;5;241m.\u001b[39mCreate(collection, path, \u001b[38;5;124m\"\u001b[39m\u001b[38;5;124mcolls\u001b[39m\u001b[38;5;124m\"\u001b[39m, database_id, \u001b[38;5;28;01mNone\u001b[39;00m, options, \u001b[38;5;241m*\u001b[39m\u001b[38;5;241m*\u001b[39mkwargs)\n",
      "File \u001b[1;32m~\\AppData\\Local\\Programs\\Python\\Python39\\lib\\site-packages\\azure\\cosmos\\_cosmos_client_connection.py:2109\u001b[0m, in \u001b[0;36mCosmosClientConnection.Create\u001b[1;34m(self, body, path, typ, id, initial_headers, options, **kwargs)\u001b[0m\n\u001b[0;32m   2106\u001b[0m \u001b[38;5;66;03m# Create will use WriteEndpoint since it uses POST operation\u001b[39;00m\n\u001b[0;32m   2108\u001b[0m request_params \u001b[38;5;241m=\u001b[39m _request_object\u001b[38;5;241m.\u001b[39mRequestObject(typ, documents\u001b[38;5;241m.\u001b[39m_OperationType\u001b[38;5;241m.\u001b[39mCreate)\n\u001b[1;32m-> 2109\u001b[0m result, \u001b[38;5;28mself\u001b[39m\u001b[38;5;241m.\u001b[39mlast_response_headers \u001b[38;5;241m=\u001b[39m \u001b[38;5;28mself\u001b[39m\u001b[38;5;241m.\u001b[39m__Post(path, request_params, body, headers, \u001b[38;5;241m*\u001b[39m\u001b[38;5;241m*\u001b[39mkwargs)\n\u001b[0;32m   2111\u001b[0m \u001b[38;5;66;03m# update session for write request\u001b[39;00m\n\u001b[0;32m   2112\u001b[0m \u001b[38;5;28mself\u001b[39m\u001b[38;5;241m.\u001b[39m_UpdateSessionIfRequired(headers, result, \u001b[38;5;28mself\u001b[39m\u001b[38;5;241m.\u001b[39mlast_response_headers)\n",
      "File \u001b[1;32m~\\AppData\\Local\\Programs\\Python\\Python39\\lib\\site-packages\\azure\\cosmos\\_cosmos_client_connection.py:2275\u001b[0m, in \u001b[0;36mCosmosClientConnection.__Post\u001b[1;34m(self, path, request_params, body, req_headers, **kwargs)\u001b[0m\n\u001b[0;32m   2261\u001b[0m \u001b[38;5;124;03m\"\"\"Azure Cosmos 'POST' http request.\u001b[39;00m\n\u001b[0;32m   2262\u001b[0m \n\u001b[0;32m   2263\u001b[0m \u001b[38;5;124;03m:params str url:\u001b[39;00m\n\u001b[1;32m   (...)\u001b[0m\n\u001b[0;32m   2272\u001b[0m \n\u001b[0;32m   2273\u001b[0m \u001b[38;5;124;03m\"\"\"\u001b[39;00m\n\u001b[0;32m   2274\u001b[0m request \u001b[38;5;241m=\u001b[39m \u001b[38;5;28mself\u001b[39m\u001b[38;5;241m.\u001b[39mpipeline_client\u001b[38;5;241m.\u001b[39mpost(url\u001b[38;5;241m=\u001b[39mpath, headers\u001b[38;5;241m=\u001b[39mreq_headers)\n\u001b[1;32m-> 2275\u001b[0m \u001b[38;5;28;01mreturn\u001b[39;00m synchronized_request\u001b[38;5;241m.\u001b[39mSynchronizedRequest(\n\u001b[0;32m   2276\u001b[0m     client\u001b[38;5;241m=\u001b[39m\u001b[38;5;28mself\u001b[39m,\n\u001b[0;32m   2277\u001b[0m     request_params\u001b[38;5;241m=\u001b[39mrequest_params,\n\u001b[0;32m   2278\u001b[0m     global_endpoint_manager\u001b[38;5;241m=\u001b[39m\u001b[38;5;28mself\u001b[39m\u001b[38;5;241m.\u001b[39m_global_endpoint_manager,\n\u001b[0;32m   2279\u001b[0m     connection_policy\u001b[38;5;241m=\u001b[39m\u001b[38;5;28mself\u001b[39m\u001b[38;5;241m.\u001b[39mconnection_policy,\n\u001b[0;32m   2280\u001b[0m     pipeline_client\u001b[38;5;241m=\u001b[39m\u001b[38;5;28mself\u001b[39m\u001b[38;5;241m.\u001b[39mpipeline_client,\n\u001b[0;32m   2281\u001b[0m     request\u001b[38;5;241m=\u001b[39mrequest,\n\u001b[0;32m   2282\u001b[0m     request_data\u001b[38;5;241m=\u001b[39mbody,\n\u001b[0;32m   2283\u001b[0m     \u001b[38;5;241m*\u001b[39m\u001b[38;5;241m*\u001b[39mkwargs\n\u001b[0;32m   2284\u001b[0m )\n",
      "File \u001b[1;32m~\\AppData\\Local\\Programs\\Python\\Python39\\lib\\site-packages\\azure\\cosmos\\_synchronized_request.py:206\u001b[0m, in \u001b[0;36mSynchronizedRequest\u001b[1;34m(client, request_params, global_endpoint_manager, connection_policy, pipeline_client, request, request_data, **kwargs)\u001b[0m\n\u001b[0;32m    203\u001b[0m     request\u001b[38;5;241m.\u001b[39mheaders[http_constants\u001b[38;5;241m.\u001b[39mHttpHeaders\u001b[38;5;241m.\u001b[39mContentLength] \u001b[38;5;241m=\u001b[39m \u001b[38;5;241m0\u001b[39m\n\u001b[0;32m    205\u001b[0m \u001b[38;5;66;03m# Pass _Request function with it's parameters to retry_utility's Execute method that wraps the call with retries\u001b[39;00m\n\u001b[1;32m--> 206\u001b[0m \u001b[38;5;28;01mreturn\u001b[39;00m _retry_utility\u001b[38;5;241m.\u001b[39mExecute(\n\u001b[0;32m    207\u001b[0m     client,\n\u001b[0;32m    208\u001b[0m     global_endpoint_manager,\n\u001b[0;32m    209\u001b[0m     _Request,\n\u001b[0;32m    210\u001b[0m     request_params,\n\u001b[0;32m    211\u001b[0m     connection_policy,\n\u001b[0;32m    212\u001b[0m     pipeline_client,\n\u001b[0;32m    213\u001b[0m     request,\n\u001b[0;32m    214\u001b[0m     \u001b[38;5;241m*\u001b[39m\u001b[38;5;241m*\u001b[39mkwargs\n\u001b[0;32m    215\u001b[0m )\n",
      "File \u001b[1;32m~\\AppData\\Local\\Programs\\Python\\Python39\\lib\\site-packages\\azure\\cosmos\\_retry_utility.py:83\u001b[0m, in \u001b[0;36mExecute\u001b[1;34m(client, global_endpoint_manager, function, *args, **kwargs)\u001b[0m\n\u001b[0;32m     81\u001b[0m start_time \u001b[38;5;241m=\u001b[39m time\u001b[38;5;241m.\u001b[39mtime()\n\u001b[0;32m     82\u001b[0m \u001b[38;5;28;01mif\u001b[39;00m args:\n\u001b[1;32m---> 83\u001b[0m     result \u001b[38;5;241m=\u001b[39m ExecuteFunction(function, global_endpoint_manager, \u001b[38;5;241m*\u001b[39margs, \u001b[38;5;241m*\u001b[39m\u001b[38;5;241m*\u001b[39mkwargs)\n\u001b[0;32m     84\u001b[0m \u001b[38;5;28;01melse\u001b[39;00m:\n\u001b[0;32m     85\u001b[0m     result \u001b[38;5;241m=\u001b[39m ExecuteFunction(function, \u001b[38;5;241m*\u001b[39margs, \u001b[38;5;241m*\u001b[39m\u001b[38;5;241m*\u001b[39mkwargs)\n",
      "File \u001b[1;32m~\\AppData\\Local\\Programs\\Python\\Python39\\lib\\site-packages\\azure\\cosmos\\_retry_utility.py:144\u001b[0m, in \u001b[0;36mExecuteFunction\u001b[1;34m(function, *args, **kwargs)\u001b[0m\n\u001b[0;32m    141\u001b[0m \u001b[38;5;28;01mdef\u001b[39;00m \u001b[38;5;21mExecuteFunction\u001b[39m(function, \u001b[38;5;241m*\u001b[39margs, \u001b[38;5;241m*\u001b[39m\u001b[38;5;241m*\u001b[39mkwargs):\n\u001b[0;32m    142\u001b[0m     \u001b[38;5;124;03m\"\"\"Stub method so that it can be used for mocking purposes as well.\u001b[39;00m\n\u001b[0;32m    143\u001b[0m \u001b[38;5;124;03m    \"\"\"\u001b[39;00m\n\u001b[1;32m--> 144\u001b[0m     \u001b[38;5;28;01mreturn\u001b[39;00m function(\u001b[38;5;241m*\u001b[39margs, \u001b[38;5;241m*\u001b[39m\u001b[38;5;241m*\u001b[39mkwargs)\n",
      "File \u001b[1;32m~\\AppData\\Local\\Programs\\Python\\Python39\\lib\\site-packages\\azure\\cosmos\\_synchronized_request.py:154\u001b[0m, in \u001b[0;36m_Request\u001b[1;34m(global_endpoint_manager, request_params, connection_policy, pipeline_client, request, **kwargs)\u001b[0m\n\u001b[0;32m    152\u001b[0m     \u001b[38;5;28;01mraise\u001b[39;00m exceptions\u001b[38;5;241m.\u001b[39mCosmosAccessConditionFailedError(message\u001b[38;5;241m=\u001b[39mdata, response\u001b[38;5;241m=\u001b[39mresponse)\n\u001b[0;32m    153\u001b[0m \u001b[38;5;28;01mif\u001b[39;00m response\u001b[38;5;241m.\u001b[39mstatus_code \u001b[38;5;241m>\u001b[39m\u001b[38;5;241m=\u001b[39m \u001b[38;5;241m400\u001b[39m:\n\u001b[1;32m--> 154\u001b[0m     \u001b[38;5;28;01mraise\u001b[39;00m exceptions\u001b[38;5;241m.\u001b[39mCosmosHttpResponseError(message\u001b[38;5;241m=\u001b[39mdata, response\u001b[38;5;241m=\u001b[39mresponse)\n\u001b[0;32m    156\u001b[0m result \u001b[38;5;241m=\u001b[39m \u001b[38;5;28;01mNone\u001b[39;00m\n\u001b[0;32m    157\u001b[0m \u001b[38;5;28;01mif\u001b[39;00m data:\n",
      "\u001b[1;31mCosmosHttpResponseError\u001b[0m: (BadRequest) Message: {\"Errors\":[\"Your account is currently configured with a total throughput limit of 1000 RU\\/s. This operation failed because it would have increased the total throughput to 1200 RU\\/s. See https:\\/\\/aka.ms\\/cosmos-tp-limit for more information.\"]}\r\nActivityId: 11b48a41-d982-4fb5-92eb-434fcd615840, Request URI: /apps/bf247f2c-4db2-47b8-9427-a2c6f88b4294/services/6df297dc-6ae4-4430-908b-6757548b0454/partitions/85767fbd-1eee-42f0-a044-7601f687e86a/replicas/133528833031257160p, RequestStats: , SDK: Microsoft.Azure.Documents.Common/2.14.0\nCode: BadRequest\nMessage: Message: {\"Errors\":[\"Your account is currently configured with a total throughput limit of 1000 RU\\/s. This operation failed because it would have increased the total throughput to 1200 RU\\/s. See https:\\/\\/aka.ms\\/cosmos-tp-limit for more information.\"]}\r\nActivityId: 11b48a41-d982-4fb5-92eb-434fcd615840, Request URI: /apps/bf247f2c-4db2-47b8-9427-a2c6f88b4294/services/6df297dc-6ae4-4430-908b-6757548b0454/partitions/85767fbd-1eee-42f0-a044-7601f687e86a/replicas/133528833031257160p, RequestStats: , SDK: Microsoft.Azure.Documents.Common/2.14.0"
     ]
    }
   ],
   "source": [
    "db.create_container(id=\"104.18.37.228\", partition_key=PartitionKey(path='/partitionKey'))"
   ]
  },
  {
   "cell_type": "code",
   "execution_count": 66,
   "id": "c865bf8d",
   "metadata": {},
   "outputs": [],
   "source": [
    "dataS = {'id' : \"ports1\",\n",
    "            'partitionKey' : 'Account1',\n",
    "            'date' : datetime.now().strftime('%Y-%m-%d %H:%M:%S'),\n",
    "            'portsDescription' : data.json()\n",
    "            }"
   ]
  },
  {
   "cell_type": "code",
   "execution_count": 67,
   "id": "d0b816aa",
   "metadata": {},
   "outputs": [
    {
     "name": "stdout",
     "output_type": "stream",
     "text": [
      "{'id': 'ports1', 'partitionKey': 'Account1', 'date': '2024-02-27 10:42:54', 'portsDescription': [{'key': '80/tcp', 'doc_count': 4}, {'key': '8080/tcp', 'doc_count': 4}, {'key': '2052/tcp', 'doc_count': 3}, {'key': '2053/tcp', 'doc_count': 3}, {'key': '2095/tcp', 'doc_count': 3}]}\n"
     ]
    }
   ],
   "source": [
    "print(dataS)"
   ]
  },
  {
   "cell_type": "code",
   "execution_count": 59,
   "id": "0d7d906d",
   "metadata": {},
   "outputs": [
    {
     "data": {
      "text/plain": [
       "{'id': 'ports1',\n",
       " 'partitionKey': 'Account1',\n",
       " 'date': '2024-02-27 10:27:18',\n",
       " 'portsDescription': [{'key': '443/tcp', 'doc_count': 7},\n",
       "  {'key': '22/tcp', 'doc_count': 6},\n",
       "  {'key': '3306/tcp', 'doc_count': 3},\n",
       "  {'key': '10443/tcp', 'doc_count': 3},\n",
       "  {'key': '21/tcp', 'doc_count': 1}],\n",
       " '_rid': '8J50AP5FoLQBAAAAAAAAAA==',\n",
       " '_self': 'dbs/8J50AA==/colls/8J50AP5FoLQ=/docs/8J50AP5FoLQBAAAAAAAAAA==/',\n",
       " '_etag': '\"3100e756-0000-4d00-0000-65ddff790000\"',\n",
       " '_attachments': 'attachments/',\n",
       " '_ts': 1709047673}"
      ]
     },
     "execution_count": 59,
     "metadata": {},
     "output_type": "execute_result"
    }
   ],
   "source": [
    "container.create_item(body=dataS)"
   ]
  },
  {
   "cell_type": "code",
   "execution_count": null,
   "id": "93ba1650",
   "metadata": {},
   "outputs": [],
   "source": []
  }
 ],
 "metadata": {
  "kernelspec": {
   "display_name": "Python 3 (ipykernel)",
   "language": "python",
   "name": "python3"
  },
  "language_info": {
   "codemirror_mode": {
    "name": "ipython",
    "version": 3
   },
   "file_extension": ".py",
   "mimetype": "text/x-python",
   "name": "python",
   "nbconvert_exporter": "python",
   "pygments_lexer": "ipython3",
   "version": "3.9.13"
  }
 },
 "nbformat": 4,
 "nbformat_minor": 5
}
